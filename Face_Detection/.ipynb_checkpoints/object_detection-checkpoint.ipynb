{
 "cells": [
  {
   "cell_type": "code",
   "execution_count": 13,
   "metadata": {},
   "outputs": [],
   "source": [
    "import os\n",
    "import sys\n",
    "import glob\n",
    "\n",
    "import dlib\n",
    "from skimage import io"
   ]
  },
  {
   "cell_type": "code",
   "execution_count": 17,
   "metadata": {},
   "outputs": [],
   "source": [
    "faces_folder = './'"
   ]
  },
  {
   "cell_type": "code",
   "execution_count": 18,
   "metadata": {},
   "outputs": [],
   "source": [
    "options = dlib.simple_object_detector_training_options()\n",
    "options.add_left_right_image_flips = True\n",
    "options.C = 5\n",
    "options.num_threads = 4\n",
    "options.be_verbose = True"
   ]
  },
  {
   "cell_type": "code",
   "execution_count": 19,
   "metadata": {},
   "outputs": [
    {
     "ename": "RuntimeError",
     "evalue": "There is a fatal error on line 24 so parsing will now halt.",
     "output_type": "error",
     "traceback": [
      "\u001b[0;31m---------------------------------------------------------------------------\u001b[0m",
      "\u001b[0;31mRuntimeError\u001b[0m                              Traceback (most recent call last)",
      "\u001b[0;32m<ipython-input-19-08842cfddaf4>\u001b[0m in \u001b[0;36m<module>\u001b[0;34m()\u001b[0m\n\u001b[1;32m      1\u001b[0m \u001b[0mtraining_xml_path\u001b[0m \u001b[0;34m=\u001b[0m \u001b[0mos\u001b[0m\u001b[0;34m.\u001b[0m\u001b[0mpath\u001b[0m\u001b[0;34m.\u001b[0m\u001b[0mjoin\u001b[0m\u001b[0;34m(\u001b[0m\u001b[0mfaces_folder\u001b[0m\u001b[0;34m,\u001b[0m \u001b[0;34m\"training.xml\"\u001b[0m\u001b[0;34m)\u001b[0m\u001b[0;34m\u001b[0m\u001b[0m\n\u001b[1;32m      2\u001b[0m \u001b[0mtesting_xml_path\u001b[0m \u001b[0;34m=\u001b[0m \u001b[0mos\u001b[0m\u001b[0;34m.\u001b[0m\u001b[0mpath\u001b[0m\u001b[0;34m.\u001b[0m\u001b[0mjoin\u001b[0m\u001b[0;34m(\u001b[0m\u001b[0mfaces_folder\u001b[0m\u001b[0;34m,\u001b[0m \u001b[0;34m\"testing.xml\"\u001b[0m\u001b[0;34m)\u001b[0m\u001b[0;34m\u001b[0m\u001b[0m\n\u001b[0;32m----> 3\u001b[0;31m \u001b[0mdlib\u001b[0m\u001b[0;34m.\u001b[0m\u001b[0mtrain_simple_object_detector\u001b[0m\u001b[0;34m(\u001b[0m\u001b[0mtraining_xml_path\u001b[0m\u001b[0;34m,\u001b[0m \u001b[0;34m\"detector.svm\"\u001b[0m\u001b[0;34m,\u001b[0m \u001b[0moptions\u001b[0m\u001b[0;34m)\u001b[0m\u001b[0;34m\u001b[0m\u001b[0m\n\u001b[0m",
      "\u001b[0;31mRuntimeError\u001b[0m: There is a fatal error on line 24 so parsing will now halt."
     ]
    }
   ],
   "source": [
    "training_xml_path = os.path.join(faces_folder, \"training.xml\")\n",
    "testing_xml_path = os.path.join(faces_folder, \"testing.xml\")\n",
    "dlib.train_simple_object_detector(training_xml_path, \"detector.svm\", options)"
   ]
  },
  {
   "cell_type": "code",
   "execution_count": 9,
   "metadata": {},
   "outputs": [
    {
     "name": "stdout",
     "output_type": "stream",
     "text": [
      "\n",
      "Training accuracy: precision: 1, recall: 1, average precision: 1\n",
      "Testing accuracy: precision: 1, recall: 1, average precision: 1\n"
     ]
    }
   ],
   "source": [
    "print(\"\") \n",
    "print(\"Training accuracy: {}\".format(\n",
    "    dlib.test_simple_object_detector(training_xml_path, \"detector.svm\")))\n",
    "print(\"Testing accuracy: {}\".format(\n",
    "    dlib.test_simple_object_detector(testing_xml_path, \"detector.svm\")))"
   ]
  },
  {
   "cell_type": "code",
   "execution_count": 10,
   "metadata": {},
   "outputs": [],
   "source": [
    "detector = dlib.simple_object_detector(\"detector.svm\")\n",
    "win_det = dlib.image_window()\n",
    "win_det.set_image(detector)"
   ]
  },
  {
   "cell_type": "code",
   "execution_count": 11,
   "metadata": {},
   "outputs": [
    {
     "name": "stdout",
     "output_type": "stream",
     "text": [
      "Showing detections on the images in the faces folder...\n",
      "Processing file: ../../dlib/examples/faces/2007_007763.jpg\n",
      "Number of faces detected: 7\n",
      "Detection 0: Left: 157 Top: 114 Right: 193 Bottom: 150\n",
      "Detection 1: Left: 309 Top: 233 Right: 352 Bottom: 276\n",
      "Detection 2: Left: 381 Top: 89 Right: 424 Bottom: 132\n",
      "Detection 3: Left: 177 Top: 214 Right: 213 Bottom: 250\n",
      "Detection 4: Left: 193 Top: 90 Right: 229 Bottom: 126\n",
      "Detection 5: Left: 93 Top: 198 Right: 129 Bottom: 234\n",
      "Detection 6: Left: 293 Top: 86 Right: 329 Bottom: 122\n",
      "Processing file: ../../dlib/examples/faces/2008_001009.jpg\n",
      "Number of faces detected: 2\n",
      "Detection 0: Left: 146 Top: 80 Right: 220 Bottom: 155\n",
      "Detection 1: Left: 126 Top: 216 Right: 215 Bottom: 305\n",
      "Processing file: ../../dlib/examples/faces/2008_001322.jpg\n",
      "Number of faces detected: 3\n",
      "Detection 0: Left: 232 Top: 218 Right: 294 Bottom: 281\n",
      "Detection 1: Left: 344 Top: 156 Right: 434 Bottom: 245\n",
      "Detection 2: Left: 104 Top: 163 Right: 179 Bottom: 237\n",
      "Processing file: ../../dlib/examples/faces/2008_002079.jpg\n",
      "Number of faces detected: 6\n",
      "Detection 0: Left: 435 Top: 170 Right: 487 Bottom: 222\n",
      "Detection 1: Left: 121 Top: 134 Right: 157 Bottom: 170\n",
      "Detection 2: Left: 40 Top: 194 Right: 84 Bottom: 238\n",
      "Detection 3: Left: 61 Top: 134 Right: 97 Bottom: 170\n",
      "Detection 4: Left: 345 Top: 138 Right: 381 Bottom: 174\n",
      "Detection 5: Left: 409 Top: 166 Right: 445 Bottom: 202\n",
      "Processing file: ../../dlib/examples/faces/2008_002470.jpg\n",
      "Number of faces detected: 6\n",
      "Detection 0: Left: 55 Top: 156 Right: 98 Bottom: 199\n",
      "Detection 1: Left: 273 Top: 176 Right: 325 Bottom: 228\n",
      "Detection 2: Left: 328 Top: 55 Right: 371 Bottom: 98\n",
      "Detection 3: Left: 237 Top: 74 Right: 273 Bottom: 110\n",
      "Detection 4: Left: 177 Top: 86 Right: 213 Bottom: 122\n",
      "Detection 5: Left: 149 Top: 166 Right: 185 Bottom: 202\n",
      "Processing file: ../../dlib/examples/faces/2008_002506.jpg\n",
      "Number of faces detected: 3\n",
      "Detection 0: Left: 225 Top: 96 Right: 315 Bottom: 186\n",
      "Detection 1: Left: 330 Top: 80 Right: 438 Bottom: 187\n",
      "Detection 2: Left: 126 Top: 66 Right: 215 Bottom: 156\n",
      "Processing file: ../../dlib/examples/faces/2008_004176.jpg\n",
      "Number of faces detected: 7\n",
      "Detection 0: Left: 161 Top: 118 Right: 197 Bottom: 154\n",
      "Detection 1: Left: 109 Top: 82 Right: 145 Bottom: 118\n",
      "Detection 2: Left: 221 Top: 94 Right: 257 Bottom: 130\n",
      "Detection 3: Left: 189 Top: 78 Right: 225 Bottom: 114\n",
      "Detection 4: Left: 205 Top: 230 Right: 241 Bottom: 266\n",
      "Detection 5: Left: 325 Top: 78 Right: 361 Bottom: 114\n",
      "Detection 6: Left: 281 Top: 98 Right: 317 Bottom: 134\n",
      "Processing file: ../../dlib/examples/faces/2008_007676.jpg\n",
      "Number of faces detected: 7\n",
      "Detection 0: Left: 194 Top: 113 Right: 237 Bottom: 156\n",
      "Detection 1: Left: 225 Top: 58 Right: 261 Bottom: 94\n",
      "Detection 2: Left: 313 Top: 118 Right: 349 Bottom: 154\n",
      "Detection 3: Left: 106 Top: 136 Right: 158 Bottom: 188\n",
      "Detection 4: Left: 261 Top: 130 Right: 297 Bottom: 166\n",
      "Detection 5: Left: 365 Top: 130 Right: 401 Bottom: 166\n",
      "Detection 6: Left: 136 Top: 79 Right: 180 Bottom: 122\n",
      "Processing file: ../../dlib/examples/faces/2009_004587.jpg\n",
      "Number of faces detected: 2\n",
      "Detection 0: Left: 266 Top: 281 Right: 328 Bottom: 343\n",
      "Detection 1: Left: 154 Top: 47 Right: 229 Bottom: 121\n",
      "Processing file: ../../dlib/examples/faces/bald_guys.jpg\n",
      "Number of faces detected: 22\n",
      "Detection 0: Left: 551 Top: 428 Right: 737 Bottom: 614\n",
      "Detection 1: Left: 1067 Top: 1295 Right: 1253 Bottom: 1481\n",
      "Detection 2: Left: 1457 Top: 1343 Right: 1586 Bottom: 1472\n",
      "Detection 3: Left: 322 Top: 442 Right: 476 Bottom: 597\n",
      "Detection 4: Left: 1047 Top: 758 Right: 1232 Bottom: 944\n",
      "Detection 5: Left: 778 Top: 820 Right: 964 Bottom: 1006\n",
      "Detection 6: Left: 531 Top: 98 Right: 716 Bottom: 284\n",
      "Detection 7: Left: 1823 Top: 438 Right: 1931 Bottom: 546\n",
      "Detection 8: Left: 56 Top: 77 Right: 242 Bottom: 263\n",
      "Detection 9: Left: 786 Top: 1251 Right: 941 Bottom: 1406\n",
      "Detection 10: Left: 1644 Top: 701 Right: 1752 Bottom: 808\n",
      "Detection 11: Left: 35 Top: 1274 Right: 221 Bottom: 1460\n",
      "Detection 12: Left: 56 Top: 366 Right: 242 Bottom: 552\n",
      "Detection 13: Left: 340 Top: 1232 Right: 563 Bottom: 1455\n",
      "Detection 14: Left: 379 Top: 795 Right: 646 Bottom: 1063\n",
      "Detection 15: Left: 1725 Top: 1298 Right: 1768 Bottom: 1342\n",
      "Detection 16: Left: 1454 Top: 99 Right: 1775 Bottom: 420\n",
      "Detection 17: Left: 1752 Top: 1241 Right: 1815 Bottom: 1304\n",
      "Detection 18: Left: 685 Top: 1294 Right: 721 Bottom: 1330\n",
      "Detection 19: Left: 1841 Top: 1034 Right: 1877 Bottom: 1070\n",
      "Detection 20: Left: 1813 Top: 876 Right: 1888 Bottom: 951\n",
      "Detection 21: Left: 64 Top: 700 Right: 218 Bottom: 855\n",
      "Processing file: ../../dlib/examples/faces/dogs.jpg\n",
      "Number of faces detected: 0\n"
     ]
    }
   ],
   "source": [
    "print(\"Showing detections on the images in the faces folder...\")\n",
    "win = dlib.image_window()\n",
    "for f in glob.glob(os.path.join(faces_folder, \"*.jpg\")):\n",
    "    print(\"Processing file: {}\".format(f))\n",
    "    img = io.imread(f)\n",
    "    dets = detector(img)\n",
    "    print(\"Number of faces detected: {}\".format(len(dets)))\n",
    "    for k, d in enumerate(dets):\n",
    "        print(\"Detection {}: Left: {} Top: {} Right: {} Bottom: {}\".format(\n",
    "            k, d.left(), d.top(), d.right(), d.bottom()))\n",
    "\n",
    "    win.clear_overlay()\n",
    "    win.set_image(img)\n",
    "    win.add_overlay(dets)\n",
    "    dlib.hit_enter_to_continue()"
   ]
  },
  {
   "cell_type": "code",
   "execution_count": 12,
   "metadata": {},
   "outputs": [
    {
     "name": "stdout",
     "output_type": "stream",
     "text": [
      "\n",
      "Training accuracy: precision: 1, recall: 1, average precision: 1\n"
     ]
    }
   ],
   "source": [
    "images = [io.imread(faces_folder + '/2008_002506.jpg'),\n",
    "          io.imread(faces_folder + '/2009_004587.jpg')]\n",
    "# Then for each image you make a list of rectangles which give the pixel\n",
    "# locations of the edges of the boxes.\n",
    "boxes_img1 = ([dlib.rectangle(left=329, top=78, right=437, bottom=186),\n",
    "               dlib.rectangle(left=224, top=95, right=314, bottom=185),\n",
    "               dlib.rectangle(left=125, top=65, right=214, bottom=155)])\n",
    "boxes_img2 = ([dlib.rectangle(left=154, top=46, right=228, bottom=121),\n",
    "               dlib.rectangle(left=266, top=280, right=328, bottom=342)])\n",
    "# And then you aggregate those lists of boxes into one big list and then call\n",
    "# train_simple_object_detector().\n",
    "boxes = [boxes_img1, boxes_img2]\n",
    "\n",
    "detector2 = dlib.train_simple_object_detector(images, boxes, options)\n",
    "# We could save this detector to disk by uncommenting the following.\n",
    "#detector2.save('detector2.svm')\n",
    "\n",
    "# Now let's look at its HOG filter!\n",
    "win_det.set_image(detector2)\n",
    "dlib.hit_enter_to_continue()\n",
    "\n",
    "# Note that you don't have to use the XML based input to\n",
    "# test_simple_object_detector().  If you have already loaded your training\n",
    "# images and bounding boxes for the objects then you can call it as shown\n",
    "# below.\n",
    "print(\"\\nTraining accuracy: {}\".format(\n",
    "    dlib.test_simple_object_detector(images, boxes, detector2)))\n"
   ]
  },
  {
   "cell_type": "code",
   "execution_count": null,
   "metadata": {},
   "outputs": [],
   "source": []
  }
 ],
 "metadata": {
  "kernelspec": {
   "display_name": "Python 3",
   "language": "python",
   "name": "python3"
  },
  "language_info": {
   "codemirror_mode": {
    "name": "ipython",
    "version": 3
   },
   "file_extension": ".py",
   "mimetype": "text/x-python",
   "name": "python",
   "nbconvert_exporter": "python",
   "pygments_lexer": "ipython3",
   "version": "3.6.3"
  },
  "toc": {
   "nav_menu": {},
   "number_sections": true,
   "sideBar": true,
   "skip_h1_title": false,
   "toc_cell": false,
   "toc_position": {},
   "toc_section_display": "block",
   "toc_window_display": false
  },
  "varInspector": {
   "cols": {
    "lenName": 16,
    "lenType": 16,
    "lenVar": 40
   },
   "kernels_config": {
    "python": {
     "delete_cmd_postfix": "",
     "delete_cmd_prefix": "del ",
     "library": "var_list.py",
     "varRefreshCmd": "print(var_dic_list())"
    },
    "r": {
     "delete_cmd_postfix": ") ",
     "delete_cmd_prefix": "rm(",
     "library": "var_list.r",
     "varRefreshCmd": "cat(var_dic_list()) "
    }
   },
   "types_to_exclude": [
    "module",
    "function",
    "builtin_function_or_method",
    "instance",
    "_Feature"
   ],
   "window_display": false
  }
 },
 "nbformat": 4,
 "nbformat_minor": 2
}
