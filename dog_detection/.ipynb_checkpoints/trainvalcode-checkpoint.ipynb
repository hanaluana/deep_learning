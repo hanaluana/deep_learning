{
 "cells": [
  {
   "cell_type": "code",
   "execution_count": 1,
   "metadata": {},
   "outputs": [],
   "source": [
    "import os\n",
    "import numpy as np\n",
    "\n",
    "def generate_txt_files(path_to_toy_data):\n",
    "    files = os.listdir(path_to_toy_data)\n",
    "    train = open(\"train.txt\", \"w\")\n",
    "    train_val = open(\"trainval.txt\", \"w\")\n",
    "    val = open(\"val.txt\", \"w\")\n",
    "\n",
    "    size_train_set = int(len(files) * 0.5)\n",
    "    size_train_val_set = int(len(files) * 0.25)\n",
    "    size_val_set = int(len(files) * 0.25)\n",
    "\n",
    "    train_files = np.random.choice(files, size=size_train_set, replace=False)\n",
    "    for f in train_files:\n",
    "        train.write(f.replace(\".jpg\", \"\") + \" \" + str(1) + \"\\n\")\n",
    "        files.remove(f)\n",
    "    train.close()\n",
    "\n",
    "    train_val_files = np.random.choice(files, size=size_train_val_set, replace=False)\n",
    "    for f in train_val_files:\n",
    "        train_val.write(f.replace(\".jpg\", \"\") + \" \" + str(1) + \"\\n\")\n",
    "        files.remove(f)\n",
    "    train_val.close()\n",
    "\n",
    "    val_files = np.random.choice(files, size=size_val_set, replace=False)\n",
    "    for f in val_files:\n",
    "        val.write(f.replace(\".jpg\", \"\") + \" \" + str(1) + \"\\n\")\n",
    "        files.remove(f)\n",
    "    val.close()\n",
    "    print(len(files))"
   ]
  },
  {
   "cell_type": "code",
   "execution_count": 2,
   "metadata": {},
   "outputs": [
    {
     "name": "stdout",
     "output_type": "stream",
     "text": [
      "0\n"
     ]
    }
   ],
   "source": [
    "generate_txt_files('images')"
   ]
  },
  {
   "cell_type": "code",
   "execution_count": null,
   "metadata": {},
   "outputs": [],
   "source": []
  }
 ],
 "metadata": {
  "kernelspec": {
   "display_name": "Python 3",
   "language": "python",
   "name": "python3"
  },
  "language_info": {
   "codemirror_mode": {
    "name": "ipython",
    "version": 3
   },
   "file_extension": ".py",
   "mimetype": "text/x-python",
   "name": "python",
   "nbconvert_exporter": "python",
   "pygments_lexer": "ipython3",
   "version": "3.6.3"
  },
  "toc": {
   "nav_menu": {},
   "number_sections": true,
   "sideBar": true,
   "skip_h1_title": false,
   "toc_cell": false,
   "toc_position": {},
   "toc_section_display": "block",
   "toc_window_display": false
  },
  "varInspector": {
   "cols": {
    "lenName": 16,
    "lenType": 16,
    "lenVar": 40
   },
   "kernels_config": {
    "python": {
     "delete_cmd_postfix": "",
     "delete_cmd_prefix": "del ",
     "library": "var_list.py",
     "varRefreshCmd": "print(var_dic_list())"
    },
    "r": {
     "delete_cmd_postfix": ") ",
     "delete_cmd_prefix": "rm(",
     "library": "var_list.r",
     "varRefreshCmd": "cat(var_dic_list()) "
    }
   },
   "types_to_exclude": [
    "module",
    "function",
    "builtin_function_or_method",
    "instance",
    "_Feature"
   ],
   "window_display": false
  }
 },
 "nbformat": 4,
 "nbformat_minor": 2
}
